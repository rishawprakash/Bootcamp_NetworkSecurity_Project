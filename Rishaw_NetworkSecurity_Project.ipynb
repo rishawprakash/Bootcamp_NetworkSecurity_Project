{
  "nbformat": 4,
  "nbformat_minor": 0,
  "metadata": {
    "colab": {
      "name": "Rishaw_NetworkSecurity_Project.ipynb",
      "provenance": [],
      "collapsed_sections": []
    },
    "kernelspec": {
      "name": "python3",
      "display_name": "Python 3"
    },
    "language_info": {
      "name": "python"
    }
  },
  "cells": [
    {
      "cell_type": "markdown",
      "metadata": {
        "id": "fZEd0DVVEjtc"
      },
      "source": [
        "1) Write a Program in Python to generate MD5 of string data."
      ]
    },
    {
      "cell_type": "code",
      "metadata": {
        "colab": {
          "base_uri": "https://localhost:8080/"
        },
        "id": "EWdCMl2CEqFE",
        "outputId": "00beefec-9676-451e-c183-0000b26b0ed5"
      },
      "source": [
        "#MD5 Solution\n",
        "import hashlib\n",
        "X=input(\" Enter string \")\n",
        "print(hashlib.md5(X.encode('utf-8')).hexdigest())"
      ],
      "execution_count": 13,
      "outputs": [
        {
          "output_type": "stream",
          "text": [
            " Enter string RISHAW\n",
            "b8f09400818ce69044c5f46dd981ff50\n"
          ],
          "name": "stdout"
        }
      ]
    },
    {
      "cell_type": "code",
      "metadata": {
        "colab": {
          "base_uri": "https://localhost:8080/"
        },
        "id": "SpmUJTz7FVJE",
        "outputId": "015602e0-0c6a-45fb-d3aa-67b0c23b9fe2"
      },
      "source": [
        "import hashlib\n",
        "print(hashlib.algorithms_available)"
      ],
      "execution_count": 14,
      "outputs": [
        {
          "output_type": "stream",
          "text": [
            "{'sha256', 'sha3_512', 'sha384', 'sha3_256', 'sha3_224', 'sha1', 'shake_256', 'blake2s', 'md5', 'blake2b', 'sha512', 'shake_128', 'sha224', 'sha3_384'}\n"
          ],
          "name": "stdout"
        }
      ]
    },
    {
      "cell_type": "markdown",
      "metadata": {
        "id": "h--CHWZAGU8k"
      },
      "source": [
        "2) Write a Program in Python to generate hashes of string data using 3 algorithms from hashlib."
      ]
    },
    {
      "cell_type": "code",
      "metadata": {
        "colab": {
          "base_uri": "https://localhost:8080/"
        },
        "id": "c6VOm8_0Fou8",
        "outputId": "e15618a6-8b05-41cd-98b1-47ed94544f67"
      },
      "source": [
        "#sha256\n",
        "import hashlib\n",
        "X=input(\" Enter string \")\n",
        "print(hashlib.sha256(X.encode('utf-8')).hexdigest())"
      ],
      "execution_count": 15,
      "outputs": [
        {
          "output_type": "stream",
          "text": [
            " Enter string RISHAW\n",
            "9f7b612b2ecc04b2de6def115c85ab775e7569eec2045892b9102bebaed480d6\n"
          ],
          "name": "stdout"
        }
      ]
    },
    {
      "cell_type": "code",
      "metadata": {
        "colab": {
          "base_uri": "https://localhost:8080/"
        },
        "id": "zbdxg9cLG3gw",
        "outputId": "9a24084d-01b8-4cee-c29e-795defc7dee7"
      },
      "source": [
        "#blake2b\n",
        "import hashlib\n",
        "X=input(\" Enter string \")\n",
        "print(hashlib.blake2b(X.encode('utf-8')).hexdigest())"
      ],
      "execution_count": 19,
      "outputs": [
        {
          "output_type": "stream",
          "text": [
            " Enter string RISHAW\n",
            "27c0b34ebf8688e75b87e082db6358bf27c9b5e54a7276a7dfaa46e19f73a883b74b402ad854996f95224348d923545f6c2e5b44c849ccd804be27df846be2c3\n"
          ],
          "name": "stdout"
        }
      ]
    },
    {
      "cell_type": "code",
      "metadata": {
        "colab": {
          "base_uri": "https://localhost:8080/"
        },
        "id": "mRkOlcZ-G4k1",
        "outputId": "ccc854c4-2f20-4d58-dcb5-2f771ef3d793"
      },
      "source": [
        "#sha384\n",
        "import hashlib\n",
        "X=input(\" Enter string \")\n",
        "print(hashlib.sha384(X.encode('utf-8')).hexdigest())"
      ],
      "execution_count": 18,
      "outputs": [
        {
          "output_type": "stream",
          "text": [
            " Enter string RISHAW\n",
            "199c2870efeb9f905690ff17e4c1b940fb5de501415c0c264a36712c146b6800eda762e4eafc54be94512f37b99051cd\n"
          ],
          "name": "stdout"
        }
      ]
    },
    {
      "cell_type": "markdown",
      "metadata": {
        "id": "xg1a6cSnIiNF"
      },
      "source": [
        "3)Add salting and iterations to your hashes."
      ]
    },
    {
      "cell_type": "code",
      "metadata": {
        "colab": {
          "base_uri": "https://localhost:8080/"
        },
        "id": "4-fqOkz7IaH2",
        "outputId": "0832617c-0b62-4ad2-a070-30e7bde2d2f6"
      },
      "source": [
        "#SALTING \n",
        "import hashlib\n",
        "\n",
        "X = input(\" Enter string \")\n",
        "salt = \"5gz\"\n",
        "password = X+salt\n",
        "h = hashlib.md5(password.encode())\n",
        "print(h.hexdigest())"
      ],
      "execution_count": 29,
      "outputs": [
        {
          "output_type": "stream",
          "text": [
            " Enter string RISHAW\n",
            "ca138736aebebf87d3020743405e3213\n"
          ],
          "name": "stdout"
        }
      ]
    },
    {
      "cell_type": "code",
      "metadata": {
        "colab": {
          "base_uri": "https://localhost:8080/"
        },
        "id": "W5TNyUPBNAY-",
        "outputId": "e15a0a96-d14f-423b-8d5d-8e68c911a44a"
      },
      "source": [
        "#ITERATION\n",
        "import hashlib\n",
        "X=input(\" Enter string \")\n",
        "for i in range(0,9):\n",
        "  h = hashlib.md5(X.encode())\n",
        "  h.hexdigest()\n",
        "print (h)"
      ],
      "execution_count": 42,
      "outputs": [
        {
          "output_type": "stream",
          "text": [
            " Enter string RISHAW\n",
            "<md5 HASH object @ 0x7fa7d44a5a50>\n"
          ],
          "name": "stdout"
        }
      ]
    },
    {
      "cell_type": "markdown",
      "metadata": {
        "id": "Dce0nOQcRUR8"
      },
      "source": [
        "SUCESSFULLY COMPLETED ALL 3 TASKS! THANKYOU SIR!-------BY RISHAW PRAKASH"
      ]
    }
  ]
}